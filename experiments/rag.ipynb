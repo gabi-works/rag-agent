{
 "cells": [
  {
   "cell_type": "code",
   "execution_count": 1,
   "metadata": {},
   "outputs": [],
   "source": [
    "import sys\n",
    "from pathlib import Path\n",
    "\n",
    "from dotenv import load_dotenv"
   ]
  },
  {
   "cell_type": "code",
   "execution_count": 2,
   "metadata": {},
   "outputs": [
    {
     "data": {
      "text/plain": [
       "True"
      ]
     },
     "execution_count": 2,
     "metadata": {},
     "output_type": "execute_result"
    }
   ],
   "source": [
    "project_root = Path.cwd().parent\n",
    "sys.path.append(str(project_root))\n",
    "\n",
    "load_dotenv(project_root / '.env')"
   ]
  },
  {
   "cell_type": "code",
   "execution_count": 3,
   "metadata": {},
   "outputs": [],
   "source": [
    "from ingestion.utils.state_serializer import load_state\n",
    "from ingestion.config import GUIDELINE_PATHS, API_SPEC_PATHS"
   ]
  },
  {
   "cell_type": "code",
   "execution_count": 4,
   "metadata": {},
   "outputs": [],
   "source": [
    "guideline_state = load_state(GUIDELINE_PATHS[\"processed_dir\"] / \"guideline.pkl\")\n",
    "api_spec_state = load_state(API_SPEC_PATHS[\"processed_dir\"] / \"api_specification.pkl\")"
   ]
  },
  {
   "cell_type": "code",
   "execution_count": 5,
   "metadata": {},
   "outputs": [
    {
     "name": "stdout",
     "output_type": "stream",
     "text": [
      "Error processing table summary: not well-formed (invalid token): line 17, column 33\n",
      "Error processing table summary: not well-formed (invalid token): line 17, column 14\n",
      "Error processing table summary: mismatched tag: line 11, column 2\n",
      "Error processing table summary: not well-formed (invalid token): line 10, column 12\n",
      "Error processing table summary: not well-formed (invalid token): line 20, column 58\n",
      "Error processing table summary: not well-formed (invalid token): line 13, column 33\n"
     ]
    }
   ],
   "source": [
    "from ingestion.utils.document_processor import process_document\n",
    "\n",
    "documents = {}\n",
    "documents[\"guideline\"] = process_document(guideline_state)\n",
    "documents[\"api_specification\"] = process_document(api_spec_state)"
   ]
  },
  {
   "cell_type": "code",
   "execution_count": 6,
   "metadata": {},
   "outputs": [],
   "source": [
    "target_docs = documents[\"guideline\"][\"docs\"] + documents[\"api_specification\"][\"docs\"] + \\\n",
    "    documents[\"guideline\"][\"hypo_docs\"] + documents[\"api_specification\"][\"hypo_docs\"]"
   ]
  },
  {
   "cell_type": "code",
   "execution_count": 7,
   "metadata": {},
   "outputs": [],
   "source": [
    "from ingestion.retrivers import get_retriever\n",
    "\n",
    "ensemble_retriever = get_retriever(target_docs)"
   ]
  },
  {
   "cell_type": "code",
   "execution_count": 8,
   "metadata": {},
   "outputs": [
    {
     "data": {
      "text/plain": [
       "[Document(metadata={'type': 'image', 'image': PosixPath('/Users/gabriela/src/workspace/rag-agent/resources/processed/guideline/figures/656.png'), 'page': 74, 'source': PosixPath('/Users/gabriela/src/workspace/rag-agent/resources/original/guideline.pdf'), 'id': 656}, page_content='<image>\\n<title>\\n마이데이터 앱 전송 요구 단계\\n</title>\\n<summary>\\n이 이미지는 금융분야 마이데이터 앱에서 자산 및 상품 전송 요구를 진행하는 단계들을 보여줍니다. 사용자는 정보 제공자 선택, 인증 수단 선택, 개인신용정보 전송 요구 확인 등의 절차를 거치며, 최대 200개 계좌(7천바이트)로 제한된 전송 요구를 수행할 수 있습니다.\\n</summary>\\n<entities> \\n- 마이데이터 앱\\n- 정보 제공자\\n- 인증 수단\\n- 개인신용정보\\n- 전송 요구\\n</entities>\\n\\n</image>'),\n",
       " Document(metadata={'type': 'page_summary', 'page': 41, 'source': PosixPath('/Users/gabriela/src/workspace/rag-agent/resources/original/guideline.pdf'), 'text': '3장. 마이데이터서비스\\n- (정보제공자) 고객의 개인신용정보 전송 요구에 응하여, 전송요구 주체가 고객\\n본인임이 확인되면 마이데이터사업자에게 해당 고객의 개인신용정보를 전송\\n하여야 한다.\\n관련법령\\n브 !\\n신용정보법 제33조의2(개인신용정보의 전송요구) ⑧ 제1 항에 따라 본인으로부터 개인신용\\n정보의 전송요구를 받은 신용정보제공·이용자등은 신용정보주체의 본인 여부가 확인되지\\n아니하는 경우 등 대통령령으로 정하는 경우에는 전송요구를 거절하거나 전송을 정지·중단할 수 있다.\\n- (마이데이터사업자) 고객이 정보제공자에 개인신용정보 전송요구를 할 수 있도록\\n지원하고 정보제공자로부터 전송받은 고객의 개인신용정보를 활용하여 고객에게\\n통합조회 등의 마이데이터서비스를 제공한다.\\n- (마이데이터 종합포털) 정보제공자와 마이데이터사업자를 등록·관리하고 고객의\\n개인신용정보 전송 요구 내역 일괄조회 등 마이데이터서비스를 위한 지원기능을\\n제공한다.\\n- (인증기관) 통합인증을 위한 본인인증수단을 발급하고 발급된 인증수단을 관리\\n한다.\\n· 정보제공자와 마이데이터사업자는 인증기관이 발급하는 인증수단(통합인증)을\\n고객에 제공하여야 하며 정보제공자가 개별적으로 마련한 별도의 인증수단(개별\\n인증)은 선택하여 제공할 수 있다.\\n※ 본인인증에 대한 상세 설명은 4장. 마이데이터 본인인증 참조\\nFinancial Security Institute 33'}, page_content='- 고객의 개인신용정보 전송 요구 시, 본인 확인 후 마이데이터사업자에게 정보 전송 필요.\\n- 신용정보법 제33조의2에 따라 본인 확인이 안 될 경우 전송 요구 거절 가능.\\n- 마이데이터사업자는 고객의 정보 전송 요구를 지원하고 통합조회 서비스 제공.\\n- 마이데이터 종합포털은 정보제공자와 마이데이터사업자 등록 및 고객의 전송 요구 내역 조회 지원.\\n- 인증기관은 통합인증을 위한 본인인증수단을 발급 및 관리.\\n- 정보제공자와 마이데이터사업자는 인증기관의 인증수단 제공, 개별 인증수단 선택 가능.'),\n",
       " Document(metadata={'type': 'hypothetical_questions', 'table': PosixPath('/Users/gabriela/src/workspace/rag-agent/resources/processed/api_specification/tables/1929.png'), 'summary': '<table>\\n<title>\\n금융분야 마이데이터 표준API 규격\\n</title>\\n<summary>\\n이 표는 금융분야의 마이데이터 표준 API 규격에 대한 정보를 제공합니다. 각 항목은 통계자료의 형식, 서비스 및 정보 수신자 수, API 구성 수 등을 포함하고 있습니다.\\n</summary>\\n<entities> \\n- 발행 기관: 금융보안원\\n- 웹사이트: www.fsec.or.kr\\n- 페이지 번호: 267\\n- 통계일자: stat_date\\n- 서비스/정보 수신자 수: mydata_svc_cnt\\n- 기관 코드: org_code\\n- 클라이언트 ID: client_id\\n- 전송요청 수: consent_new, consent_revoke, consent_own\\n- API 구성 수: api_type_cnt\\n- 성공한 API 호출 횟수: success_api_cnt\\n- 실패한 API 호출 횟수: 실패한 API\\n</entities>\\n<data_insights>\\n- 통계자료는 날짜별로 제공되며, 서비스 및 정보 수신자 수는 최대 50개까지 지원됩니다.\\n- API 구성 수는 3개로 제한되어 있으며, 성공한 API 호출 횟수는 최대 10회로 기록됩니다.\\n- 실패한 API 호출 횟수에 대한 정보도 포함되어 있습니다.\\n</data_insights>\\n\\n</table>', 'markdown': \"| 통계일자별 | 통계정보 목록 | Y | Object |\\n|------------|----------------|---|--------|\\n| -- stat_date | 통계일자 | Y | DATE | 통계자료의 해당 일자 |\\n| -- mydata_svc_cnt | 서비스/정보 수신자 수 | Y | N (3) | 마이데이터서비스, 정보수신자 및 종합포털 (PDS)에 대한 통계정보를 모두 회신 |\\n| -- mydata_svc_list | 마이데이터서비스/정보수신자 별 통계정보 목록 | Y | Object | 동일 마이데이터사업자의 서비스가 복수 개인 경우, 서비스 개수만큼 List에 포함 |\\n| ---- org_code | 기관코드 | Y | aN (10) | 마이데이터사업자/정보수신자 기관 코드 |\\n| ---- client_id | 클라이언트 ID | Y | aN (50) | 해당 마이데이터사업자/정보수신자의 클라이언트 ID (종합포털부터 발급받은 클라이언트 식별자) |\\n| ---- consent_new | 신규 또는 변경 전송요청 수 | N | N (10) | 통계일자에 정보주체가 전송요청(신규하거나 변경한 수) |\\n| ---- consent_revoke | 철회된 전송요청 수 | N | N (10) | 통계일자에 철회된 전송요청 수 |\\n| ---- consent_own | 최종 유효한 전송요청 수 | N | N (10) | 통계일자에 최종 유효한 전송요청 수 |\\n| ---- api_type_cnt | API 구분 수 | Y | N (3) | API 구분 수 |\\n| ---- api_type_list | API 구분 별 통계정보 목록 | Y | Object | API 구분 코드 |\\n| ---- api_type | API 구분 코드 | Y | aN (4) | API 구분 코드 |\\n| ---- tm_slot_cnt | 통계시점 시간대역 수 | Y | N (2) | 통계시점 시간대역 ('2' 고정값) |\\n| ---- tm_slot_list | 시간대별 통계정보 목록 | Y | Object |  |\\n| ---- tm_slot | 통계시점 시간대역 | Y | aN (2) |  |\\n| ---- success_api_cnt | 성공한 API 호출 횟수 | Y | N (10) | 성공한 API 호출 횟수 |\\n| ------ | 실패한 API | Y | N (10) | 실패한 API 호출 횟수 |\", 'page': 292, 'source': PosixPath('/Users/gabriela/src/workspace/rag-agent/resources/original/api_specification.pdf'), 'id': 1929}, page_content='1. 마이데이터 서비스의 전송 요청 수는 어떻게 집계되나요?\\n2. API 구성 수는 어떤 기준으로 결정되나요?\\n3. 실패한 API 호출 횟수를 줄이기 위한 방법은 무엇인가요?\\n4. 기관 코드는 어떻게 관리되며, 변경이 가능한가요?\\n5. 클라이언트 ID는 어떤 형식으로 생성되나요?'),\n",
       " Document(metadata={'type': 'table', 'table': PosixPath('/Users/gabriela/src/workspace/rag-agent/resources/processed/guideline/tables/105.png'), 'markdown': '| 분류                     | 내용                                                                 | 비고                          |\\n|------------------------|--------------------------------------------------------------------|-----------------------------|\\n| 전송요구를 받는 자          | 개인신용정보를 보유하고 있는 정보제공자                                        | • 정보제공자(상호/명칭)          |\\n| 개인신용정보를 제공받는 자   | 개인신용정보를 전송받는 정보수신자 (고객, 마이데이터사업자, 기타수신자 등)               | • 정보수신자(상호/명칭)          |\\n| 전송을 요구하는 개인신용정보 | 고객이 전송 요구하고 하는 개인신용정보                                        | • 정보의 항목                   |\\n| 정기적 전송을 요구하는지 여부 | 개인신용정보의 정확성 및 최신성을 유지하기 위해서 정기적으로 개인신용정보를 전송 받을지 여부와 전송 주기 | • 요구/미요구                  |\\n| 전송요구 종료 시점          | 개인신용정보 전송 요구의 종료 시점                                        | • 최대 1년                     |\\n| 전송을 요구하는 목적        | 개인신용정보 전송을 요구하는 목적                                        | • 전송요구를 통한 본인신용정보 통합조회 서비스의 이용 |\\n| 전송을 요구하는 개인신용정보의 보유기간 | 개인신용정보를 전송받은 정보수신자가 수집한 정보를 보유할 수 있는 기간                     | • 서비스 종료시 또는 삭제 요구시까지 |', 'page': 18, 'source': PosixPath('/Users/gabriela/src/workspace/rag-agent/resources/original/guideline.pdf'), 'id': 105}, page_content='<table>\\n<title>\\n금융분야 마이데이터 기술 가이드라인(전송 요구 사항)\\n</title>\\n<summary>\\n이 표는 금융 분야에서 개인신용정보 전송 요구 사항에 대한 가이드라인을 정리한 것입니다. 고객은 법령상 요구 내용을 명확히 해야 하며, 정보 제공자는 고객이 전송 요구 사항을 안전하고 편리하게 지정할 수 있도록 지원해야 합니다.\\n</summary>\\n<entities> \\n- 전송요구를 받는 자: 정보제공자\\n- 개인신용정보를 제공받는 자: 고객, 마이데이터사업자, 기타수신자\\n- 전송을 요구하는 개인신용정보: 고객이 요구하는 정보\\n- 정기적 전송을 요구하는지 여부: 정기적 전송 주기\\n- 전송요구 종료 시점: 최대 1년\\n- 전송을 요구하는 목적: 본인신용정보 통합조회 서비스, 데이터 분석 서비스\\n</entities>\\n<data_insights>\\n- 고객은 개인신용정보 전송 요구 시 법령에 따라 요구 내용을 특정해야 함.\\n- 정보 제공자는 관련 양식 및 화면을 제공하여 고객의 편의를 도모해야 함.\\n- 전송 요구는 최대 1년 동안 유효하며, 정기적 전송 주기를 설정할 수 있음.\\n</data_insights>\\n\\n</table>'),\n",
       " Document(metadata={'type': 'table', 'table': PosixPath('/Users/gabriela/src/workspace/rag-agent/resources/processed/api_specification/tables/452.png'), 'markdown': '| 청구 및 결제 정보 | 대출상품 정보 | 가능 여부 | 설명 |\\n|------------------|----------------|----------|------|\\n| card.bill        | card.loan      | 가능     | “card.bill”이 scope에 포함된 경우: 청구 및 결제 정보를 전송요구 했음을 의미 |\\n| 금융 투자        |                |          |      |\\n| invest.account    |                | 불가     | scope만으로는 정보주체가 어떤 계좌번호를 선택했는지 확인 불가 |\\n| 개인형IRP 정보   |                | 불가     | scope만으로는 정보주체가 어떤 계좌번호를 선택했는지 확인 불가 |\\n| 보험 정보        |                |          |      |\\n| insu.insurance    |                | 불가     | scope만으로는 정보주체가 어떤 계좌번호를 선택했는지 확인 불가 |\\n| 대출상품 정보    | insu.loan      | 불가     | scope만으로는 정보주체가 어떤 계좌번호를 선택했는지 확인 불가 |\\n| 개인형IRP 정보   | insu.irp      | 불가     | scope만으로는 정보주체가 어떤 계좌번호를 선택했는지 확인 불가 |\\n| 전자 금융        |                |          |      |\\n| efin.prepaid      |                | 불가     | scope만으로는 정보주체가 어떤 선불전자지급수단을 선택했는지 확인 불가 |\\n| 결제 정보        | efin.paid      | 불가     | scope만으로는 정보주체가 어떤 결제를 선택했는지 확인 불가 |\\n| 할부 금융        |                |          |      |\\n| capital.loan      |                | 불가     | scope만으로는 정보주체가 어떤 증권번호를 선택했는지 확인 불가 |\\n| 보증 보험        |                |          |      |\\n| ginsu.insurance   |                | 불가     | scope만으로는 정보주체가 어떤 보증계약을 선택했는지 확인 불가 |\\n| 통신             |                |          |      |\\n| telecom.mgmt      |                | 불가     | scope만으로는 정보주체가 어떤 통신 계약을 선택했는지 확인 불가 |\\n| P2P              |                |          |      |\\n| p2p.lending       |                | 불가     | scope만으로는 정보주체가 어떤 대출 계약을 선택했는지 확인 불가 |\\n| 인수채권         |                |          |      |\\n| bond.bond         |                | 불가     | scope만으로는 정보주체가 어떤 인수채권/금전대부 자산을 선택했는지 확인 불가 |\\n| 대부             |                |          |      |\\n| usury.bond        |                | 불가     | scope만으로는 정보주체가 어떤 인수채권/금전대부 자산을 선택했는지 확인 불가 |', 'page': 68, 'source': PosixPath('/Users/gabriela/src/workspace/rag-agent/resources/original/api_specification.pdf'), 'id': 452}, page_content='<table>\\n<title>\\n금융분야 마이데이터 표준API 규격\\n</title>\\n<summary>\\n이 표는 금융분야 마이데이터 표준API 규격에 대한 내용을 정리한 것으로, 각 정보의 전송 요구 여부와 관련된 API 호출 가능성을 나타냅니다. 마이데이터 사업자는 특정 정보의 전송 요구 내역을 확인할 수 없으며, 자산별 전송 요구 여부를 통해 확인할 수 있습니다.\\n</summary>\\n<entities> \\n- 청구 및 결제 정보\\n- 대출상품 정보\\n- 금융투자 정보\\n- 보험 정보\\n- 전자금융 정보\\n- 할부 금융 정보\\n- 보증 보험 정보\\n- 통신 정보\\n- P2P 대출 정보\\n- 인수채권 정보\\n</entities>\\n<data_insights>\\n- \"card.bill\" 및 \"card.loan\"은 scope에 포함된 경우 전송 요구가 가능함.\\n- 대부분의 정보는 scope에 따라 정보 주체가 선택한 계좌번호를 확인할 수 없음.\\n</data_insights>\\n\\n</table>'),\n",
       " Document(metadata={'type': 'page_summary', 'page': 25, 'source': PosixPath('/Users/gabriela/src/workspace/rag-agent/resources/original/guideline.pdf'), 'text': '2장. 개인신용정보 전송\\n(전송요구 기간) 고객은 최대 1년까지 개인신용정보 전송을 요구할 수 있으며, 1년\\n이내에서 고객이 정한 정보전송 요구의 종료시점이 지나면 개인신용정보 전송을 다시\\n요구하여야 한다. 단, 고객은 종료시점이 도래하기 이전에 전송요구 기간을 변경하거나\\n연장할 수 있다.\\n(조회 기간) 정보수신자가 API방식을 통해 개인신용정보를 조회하는 경우 과도한\\n전송트래픽 집중, 정보제공자 API서버 과부하, 전송지연 등을 방지하기 위해 일\\n(Date) 기준 API는 최대 31일, 월(Month) 기준 API는 최대 3개월로 조회기간\\n(From/To)을 설정하여 요청하여야 한다.\\nFinancial Security Institute 17'}, page_content='- 고객은 최대 1년까지 개인신용정보 전송을 요구 가능\\n- 종료시점 이후에는 다시 전송 요구 필요\\n- 종료시점 이전에 전송요구 기간 변경 또는 연장 가능\\n- API 방식 조회 시, 일 기준 최대 31일, 월 기준 최대 3개월로 조회기간 설정 필요\\n- 정보수신자는 과도한 전송트래픽, 서버 과부하, 전송지연 방지 필요'),\n",
       " Document(metadata={'type': 'text', 'page': 60, 'source': PosixPath('/Users/gabriela/src/workspace/rag-agent/resources/original/guideline.pdf'), 'summary': '- 마이데이터 개인신용정보 전송요구 기간 연장 가능\\n- 연장 요청은 만료 1개월 전부터 가능\\n- 전송요구 기간 연장 절차는 기존 절차와 동일\\n- 정보제공자는 본인인증 후 새로운 접근토큰 발급\\n- 통합인증을 이용한 다수 정보제공자에 대한 연장 요청 가능\\n- 연장화면은 마이데이터사업자가 자율적으로 결정 가능\\n- 고객은 마이데이터사업자를 통해 전송요구 기간 연장 요청 가능'}, page_content='전송 요구 기간 연장 요청 전달\\n본인인증\\n접근토큰 발급 요청\\n⑤ 접근토큰 발급\\n1 (전송요구 기간 연장 요청) 고객은 전송요구 기간 만료시점이 도래한 개인신용정보 전송요구에 대\\n해 마이데이터사업자를 통해 개인신용정보 전송 요구 기간 연장을 요청\\n52 금융보안원'),\n",
       " Document(metadata={'type': 'page_summary', 'page': 60, 'source': PosixPath('/Users/gabriela/src/workspace/rag-agent/resources/original/guideline.pdf'), 'text': '금융분야 마이데이터 기술 가이드라인\\n라. 마이데이터 개인신용정보 전송요구 기간 연장\\n(전송요구 기간 연장 요청) 마이데이터사업자는 고객이 지정한 개인신용정보 전송요구\\n기간 만료 시점 1개월 전부터 고객에게 개인신용정보 전송요구 기간 연장을 요청할 수 있다.\\n- (전송요구 기간 연장 절차) 개인신용정보 전송요구 절차와 동일하며, 정보제공자는\\n본인인증 수행 후 마이데이터사업자에게 새로운 접근토큰을 발급하여 전송요구\\n기간을 연장한다.\\n* 통합인증을 이용하여 다수의 정보제공자에 대한 개인신용정보 전송 연장 요구 시, 최초 1개\\n의 만료 시점에 일괄적으로 연장 요청가능\\n- (전송요구 기간 연장 화면) 연장화면은 마이데이터사업자가 고객편의를 고려하여\\n자율적으로 그 방식으로 정할 수 있다.\\n〈 전송요구 기간 연장 >\\n고객 마이데이터사업자 정보제공자\\n전송요구 기간 연장 요청\\n전송 요구 기간 연장 요청 전달\\n본인인증\\n접근토큰 발급 요청\\n⑤ 접근토큰 발급\\n1 (전송요구 기간 연장 요청) 고객은 전송요구 기간 만료시점이 도래한 개인신용정보 전송요구에 대\\n해 마이데이터사업자를 통해 개인신용정보 전송 요구 기간 연장을 요청\\n52 금융보안원'}, page_content='- 마이데이터 개인신용정보 전송요구 기간 연장 가능\\n- 연장 요청은 만료 1개월 전부터 가능\\n- 전송요구 기간 연장 절차는 기존 절차와 동일\\n- 정보제공자는 본인인증 후 새로운 접근토큰 발급\\n- 통합인증을 이용한 다수 정보제공자에 대한 연장 요청 가능\\n- 연장화면은 마이데이터사업자가 자율적으로 결정 가능\\n- 고객은 마이데이터사업자를 통해 전송요구 기간 연장 요청 가능'),\n",
       " Document(metadata={'type': 'hypothetical_questions', 'table': PosixPath('/Users/gabriela/src/workspace/rag-agent/resources/processed/api_specification/tables/399.png'), 'summary': '<table>\\n<title>\\n금융분야 마이데이터 표준API 규격\\n</title>\\n<summary>\\n이 표는 금융 분야의 마이데이터 표준API 규격에 대한 정보주체의 선택 및 전송 요구 사항을 정리한 것입니다. 각 항목은 전송 요구의 목적, 종류, 보유 기간 등을 포함하고 있습니다.\\n</summary>\\n<entities> \\n- 정기적 전송 요구\\n- 전송 요구의 종류\\n- 전송 목적\\n- 개인신용정보 보유 기간\\n- 업권별 전송 요구\\n</entities>\\n<data_insights>\\n- 정기적 전송 요구는 특정 주기에 따라 이루어짐.\\n- 전송 요구의 종류는 다양하며, 각 요구에 따라 목적이 다름.\\n- 개인신용정보는 마이데이터 사업자가 수집한 정보를 기반으로 하며, 보유 기간이 명시됨.\\n</data_insights>\\n\\n</table>', 'markdown': '| 특정 사항                                   | 정보주체 선택(또는 고지) 항목                                   |\\n|------------------------------------------|-----------------------------------------------------|\\n| 정기적 전송을 요구하는지 여부 및 요구 시 그 주기 | • 정기적 전송 요구 여부/부 선택<br>• 주기                     |\\n| 전송요구의 종류시점                           | • 전송요구의 종류시점                                   |\\n| 전송을 요구하는 목적                          | • 전송을 요구하는 목적                                   |\\n| 전송을 요구하는 개인신용정보의 보유기간            | • 마이데이터사업자가 수집한 정보를 보유할 수 있는 기간            |\\n| 전송을 요구하는 개인신용정보                    | • 업권별 상이 (상세내용은 2.2-3의 “전송요구 scope” 내용 참조) |', 'page': 63, 'source': PosixPath('/Users/gabriela/src/workspace/rag-agent/resources/original/api_specification.pdf'), 'id': 399}, page_content='1. 정기적 전송 요구는 어떤 주기로 이루어지나요?\\n2. 전송 요구의 종류에는 어떤 것들이 있나요?\\n3. 개인신용정보의 보유 기간은 어떻게 결정되나요?\\n4. 업권별 전송 요구는 어떤 기준으로 설정되나요?\\n5. 정보주체가 전송 요구를 변경할 때 어떤 절차가 필요한가요?'),\n",
       " Document(metadata={'type': 'hypothetical_questions', 'table': PosixPath('/Users/gabriela/src/workspace/rag-agent/resources/processed/guideline/tables/242.png'), 'summary': '<table>\\n<title>\\n개인신용정보 전송 요구 사항\\n</title>\\n<summary>\\n고객은 종합포털을 통해 비대면으로 개인신용정보 전송을 요구할 수 있으며, 특정 사항을 명시해야 합니다. 정보제공자는 신뢰할 수 있는 제3의 기관을 통해 본인인증을 수행해야 합니다.\\n</summary>\\n<entities> \\n- 전송요구를 받는 자\\n- 개인신용정보를 제공받는 자\\n- 전송을 요구하는 개인신용정보\\n- 정기적 전송을 요구하는지 여부 및 요구 시 주기\\n- 전송요구의 종결 시점\\n- 전송을 요구하는 목적\\n- 전송을 요구하는 개인신용정보의 보유기간\\n</entities>\\n<data_insights>\\n- 전송요구를 받는 자는 본인만 가능하며, 개인신용정보를 제공받는 자는 본인 외의 다른 자는 불가능합니다.\\n- 전송을 요구하는 개인신용정보는 명확히 정의되어야 하며, 정기적 전송의 경우 주기를 명시해야 합니다.\\n</data_insights>\\n\\n</table>', 'markdown': '| 특정 사항                     | 특정 필요 | 설명  |\\n|---------------------------|----------|-------|\\n| 전송요구를 받는 자              | ○        |       |\\n| 개인신용정보를 제공받는 자        | ×        | 본인  |\\n| 전송을 요구하는 개인신용정보      | ○        |       |\\n| 정기적 전송을 요구하는지 여부 및 요구 시 그 주기 | ○        |       |\\n| 전송요구의 종류시점            | ○        |       |\\n| 전송을 요구하는 목적            | ○        |       |\\n| 전송을 요구하는 개인신용정보의 보유기간 | ○        |       |', 'page': 32, 'source': PosixPath('/Users/gabriela/src/workspace/rag-agent/resources/original/guideline.pdf'), 'id': 242}, page_content='1. 개인신용정보 전송을 요구할 때 어떤 정보를 명시해야 하나요?\\n2. 전송 요구를 할 수 있는 자는 누구인가요?\\n3. 정기적 전송을 요구할 경우 주기는 어떻게 설정하나요?\\n4. 전송 요구의 종결 시점은 어떻게 결정되나요?\\n5. 개인신용정보의 보유기간은 어떻게 정해지나요?')]"
      ]
     },
     "execution_count": 8,
     "metadata": {},
     "output_type": "execute_result"
    }
   ],
   "source": [
    "ensemble_retriever.invoke(\"정보 전송 요구 연장은 언제 가능한가요?\")"
   ]
  },
  {
   "cell_type": "code",
   "execution_count": 9,
   "metadata": {},
   "outputs": [],
   "source": [
    "from langchain_openai import ChatOpenAI\n",
    "from ingestion.utils.evaluator import OpenAIRelevanceGrader\n",
    "\n",
    "groundedness_check = OpenAIRelevanceGrader(\n",
    "    ChatOpenAI(model=\"gpt-4o-mini\", temperature=0), target=\"retrieval-question\"\n",
    ").create()"
   ]
  },
  {
   "cell_type": "code",
   "execution_count": 10,
   "metadata": {},
   "outputs": [],
   "source": [
    "from ingestion.utils.document_processor import clean_retrieved_documents\n",
    "\n",
    "retrieved_documents = ensemble_retriever.invoke(\n",
    "    \"x-api-tran-id에 대해 알려주세요.\"\n",
    ")\n",
    "\n",
    "cleaned_documents = clean_retrieved_documents(retrieved_documents)"
   ]
  },
  {
   "cell_type": "code",
   "execution_count": 11,
   "metadata": {},
   "outputs": [
    {
     "name": "stdout",
     "output_type": "stream",
     "text": [
      "<table>\n",
      "<title>\n",
      "금융분야 마이데이터 표준API 규격\n",
      "</title>\n",
      "<summary>\n",
      "이 표는 금융분야의 다양한 데이터 코드와 그에 대한 설명을 포함하고 있습니다. 각 코드에 따라 특정한 데이터 유형과 관련된 정보를 제공합니다.\n",
      "</summary>\n",
      "<entities> \n",
      "- 금융보안원\n",
      "- 웹사이트: www.fsec.or.kr\n",
      "- 문서 번호: 303\n",
      "- 코드: A5300, A5301, A5302, A5309, A5310, A5500, A5999, A6100, A6101, A6103, A6105, A6110, A6111, A6114, A6115, A6117, A6118, A6119, A6120, A6150, A6200, A6201, A6300, A6301, A6302, A6303, A6350\n",
      "</entities>\n",
      "<data_insights>\n",
      "- 다양한 데이터 코드(A5300~A6350)와 그 설명이 포함되어 있으며, 각 코드에 따라 특정한 데이터 유형을 정의하고 있습니다.\n",
      "- 예를 들어, A5300은 상해로 인한 수술을 보장하는 담보를 의미합니다.\n",
      "- A6100은 질병으로 인한 입원을 보장하는 담보를 나타냅니다.\n",
      "</data_insights>\n",
      "\n",
      "</table>\n",
      "------------------------------------------------------------------------------------------\n",
      "{'page': 328, 'source': PosixPath('/Users/gabriela/src/workspace/rag-agent/resources/original/api_specification.pdf')}\n",
      "==========================================================================================\n",
      "\n",
      "\n",
      "<table>\n",
      "<title>\n",
      "금융분야 마이데이터 표준API 규격 - 10상품 [구매] 분류 코드\n",
      "</title>\n",
      "<summary>\n",
      "이 표는 금융분야 마이데이터의 표준 API 규격에 따른 10가지 상품 구매 분류 코드를 정리한 것입니다. 각 분류는 특정 카테고리와 관련된 내용을 포함하고 있으며, 코드와 함께 제공됩니다.\n",
      "</summary>\n",
      "<entities> \n",
      "- 금융분야\n",
      "- 마이데이터\n",
      "- 표준API\n",
      "- 상품 구매 분류\n",
      "- 코드\n",
      "</entities>\n",
      "<data_insights>\n",
      "- 총 10개의 상품 분류가 있으며, 각 분류는 고유한 코드(A1, B1, C1 등)를 가지고 있습니다.\n",
      "- 카테고리는 가전/전자, 도서/문구, 패션/의류 등 다양한 분야를 포함합니다.\n",
      "</data_insights>\n",
      "\n",
      "</table>\n",
      "------------------------------------------------------------------------------------------\n",
      "{'page': 318, 'source': PosixPath('/Users/gabriela/src/workspace/rag-agent/resources/original/api_specification.pdf')}\n",
      "==========================================================================================\n",
      "\n",
      "\n",
      "- 금융분야 마이데이터 표준API 규격은 고객별/자산별 API 호출 전송주기를 정의.\n",
      "- 예시: A은행의 수신계좌 10개에 대해 마이데이터사업자는 계좌별로 총 10번씩 API 호출 가능.\n",
      "- 초기에는 전산 용량 등을 고려하여 주 1회로 고정, 추후 고객 선택권 다양화 예정.\n",
      "- 정보제공자는 접근토큰 유효성과 요청 정보의 정당성을 검증 후 정보를 회신.\n",
      "- 비정기적 전송 시 고객이 전송요구 직후 통합자산조회 서비스 제공을 위해 데이터 즉시 수집 가능.\n",
      "------------------------------------------------------------------------------------------\n",
      "{'page': 76, 'source': PosixPath('/Users/gabriela/src/workspace/rag-agent/resources/original/api_specification.pdf')}\n",
      "==========================================================================================\n",
      "\n",
      "\n",
      "- 마이데이터사업자가 고객에게 정보 제공자 일괄선택 기능 제공\n",
      "- 일괄선택 가능한 정보 제공자 수는 기관코드 기준으로 50개 초과 불가\n",
      "- 한 금융회사가 여러 기관코드를 보유할 경우, 각 기관코드별로 하나의 정보 제공자로 간주\n",
      "- 여러 번 나누어 일괄선택 기능 제공 시에도 총합 50개 초과 불가\n",
      "- 고객은 자율 구성한 정보 제공자에 대해 개별 추가·수정 선택 가능\n",
      "- 개별 추가 선택 시 50개 초과 가능\n",
      "------------------------------------------------------------------------------------------\n",
      "{'page': 75, 'source': PosixPath('/Users/gabriela/src/workspace/rag-agent/resources/original/guideline.pdf')}\n",
      "==========================================================================================\n",
      "\n",
      "\n",
      "- (철회 절차) 고객이 마이데이터사업자를 통해 개인신용정보 전송요구 철회를 요청할\n",
      "경우, 정보제공자는 기발급된 접근토큰을 폐기함으로서 개인신용정보 전송요구를\n",
      "철회한다.\n",
      "- (철회 주의사항 고지) 마이데이터사업자는 고객이 개인신용정보 전송요구 철회 시\n",
      "주의사항에 대해 고객의 철회 수행 전에 고지하여야 한다.\n",
      "예시\n",
      "철회시 고지 항목\n",
      "· 수집한 개인신용정보 목록 및 수집 기간\n",
      "· 수집한 개인신용정보 보유기간\n",
      "· 철회 시 발생할 수 있는 서비스 불이익 등 안내\n",
      "Financial Security Institute 49\n",
      "------------------------------------------------------------------------------------------\n",
      "{'page': 57, 'source': PosixPath('/Users/gabriela/src/workspace/rag-agent/resources/original/guideline.pdf'), 'summary': '- 본인인증 수단을 이용하여 고객의 개인신용정보 전송요구 변경 요청에 대한 본인인증 수행.\\n- 마이데이터사업자는 정보제공자에게 접근토큰 발급 요청.\\n- 접근토큰은 고객의 전송요구 권한을 포함하며, 기발급된 접근토큰은 폐기됨.\\n- 인증방식에 따라 절차가 변경될 수 있으며, 상세 절차는 「금융분야 마이데이터 표준API 규격」 참조.\\n- 고객이 전송요구 철회를 요청할 경우, 정보제공자는 기발급된 접근토큰을 폐기하여 전송요구를 철회.\\n- 마이데이터사업자는 철회 시 주의사항을 고객에게 고지해야 함.\\n- 고지 항목: 수집한 개인신용정보 목록 및 수집 기간, 보유기간, 서비스 불이익 안내.'}\n",
      "==========================================================================================\n",
      "\n",
      "\n",
      "<table>\n",
      "<title>\n",
      "금융분야 마이데이터 표준API 응답 메시지 명세\n",
      "</title>\n",
      "<summary>\n",
      "이 표는 금융분야 마이데이터의 표준 API 응답 메시지에 대한 명세를 제공합니다. HTTP 헤더와 본문에 포함되는 필드와 그 설명, 필수 여부, 입력 타입 및 길이에 대한 정보를 포함하고 있습니다.\n",
      "</summary>\n",
      "<entities> \n",
      "- HTTP\n",
      "- Header\n",
      "- Body\n",
      "- x-api-tran-id\n",
      "- rsp_code\n",
      "- rsp_msg\n",
      "- 거래고유번호\n",
      "- 응답코드\n",
      "- 응답메시지\n",
      "</entities>\n",
      "<data_insights>\n",
      "- 거래고유번호: 필수, 타입 AN, 길이 25\n",
      "- 응답코드: 필수, 타입 aN, 길이 5\n",
      "- 응답메시지: 필수, 타입 AH, 길이 450\n",
      "</data_insights>\n",
      "\n",
      "</table>\n",
      "------------------------------------------------------------------------------------------\n",
      "{'page': 303, 'source': PosixPath('/Users/gabriela/src/workspace/rag-agent/resources/original/api_specification.pdf')}\n",
      "==========================================================================================\n",
      "\n",
      "\n",
      "<table>\n",
      "<title>\n",
      "금융분야 마이데이터 표준API 규격 - 응답메시지 명세\n",
      "</title>\n",
      "<summary>\n",
      "이 표는 금융분야 마이데이터의 표준 API 응답 메시지에 대한 명세를 제공합니다. 각 항목의 설명, 필수 여부, 데이터 타입 및 길이에 대한 정보를 포함하고 있습니다.\n",
      "</summary>\n",
      "<entities> \n",
      "- x-api-tran-id: 거래고유번호\n",
      "- rsp_code: 세부 응답코드\n",
      "- rsp_msg: 세부 응답메시지\n",
      "- next_page: 다음 페이지 기준개체\n",
      "- trans_cnt: 거래목록수\n",
      "- trans_list: 거래목록\n",
      "- trans_dtime: 거래일시 또는 거래일자\n",
      "- trans_no: 거래번호\n",
      "- trans_type: 거래구분\n",
      "- trans_amt: 거래금액\n",
      "</entities>\n",
      "<data_insights>\n",
      "- 필수 항목: x-api-tran-id, rsp_code, rsp_msg, trans_cnt, trans_list, trans_dtime, trans_type, trans_amt\n",
      "- 선택 항목: next_page, trans_no\n",
      "- 데이터 타입: AN, aN, DTIME, DATE 등 다양한 타입이 사용됨.\n",
      "</data_insights>\n",
      "\n",
      "</table>\n",
      "------------------------------------------------------------------------------------------\n",
      "{'page': 112, 'source': PosixPath('/Users/gabriela/src/workspace/rag-agent/resources/original/api_specification.pdf')}\n",
      "==========================================================================================\n",
      "\n",
      "\n",
      "<table>\n",
      "<title>\n",
      "금융분야 마이데이터 표준API 규격 - 응답메시지 명세\n",
      "</title>\n",
      "<summary>\n",
      "이 표는 금융분야 마이데이터의 표준 API 응답 메시지 명세를 설명합니다. 각 항목의 이름, 설명, 필수 여부, 타입 및 길이에 대한 정보를 포함하고 있습니다.\n",
      "</summary>\n",
      "<entities> \n",
      "- x-api-tran-id: 거래고유번호\n",
      "- rsp_code: 세부 응답코드\n",
      "- rsp_msg: 세부 응답메시지\n",
      "- next_page: 다음 페이지 요청 기준개체\n",
      "- trans_cnt: 거래목록수\n",
      "- trans_list: 거래목록\n",
      "- trans_dtime: 상환일시\n",
      "- repay_cnt: 상환 회차\n",
      "- repay_type: 상환유형 (코드)\n",
      "- trans_amt: 상환 거래의 총 금액\n",
      "- principal_amt: 상환금액 중 원금\n",
      "- int_amt: 상환금액 중 이자\n",
      "</entities>\n",
      "<data_insights>\n",
      "- 필수 항목: x-api-tran-id, rsp_msg, trans_cnt, trans_list, trans_dtime, repay_type, trans_amt\n",
      "- 응답 메시지의 최대 길이: rsp_msg는 450자까지 가능\n",
      "- 거래 목록 수는 최대 3개까지 포함 가능\n",
      "</data_insights>\n",
      "\n",
      "</table>\n",
      "------------------------------------------------------------------------------------------\n",
      "{'page': 277, 'source': PosixPath('/Users/gabriela/src/workspace/rag-agent/resources/original/api_specification.pdf')}\n",
      "==========================================================================================\n",
      "\n",
      "\n",
      "<table>\n",
      "<title>\n",
      "금융분야 마이데이터 표준API 규격 응답메시지 명세\n",
      "</title>\n",
      "<summary>\n",
      "이 문서는 금융분야 마이데이터의 표준 API 응답 메시지에 대한 규격을 설명합니다. 각 필드의 명칭, 필수 여부, 데이터 타입 및 설명이 포함되어 있습니다.\n",
      "</summary>\n",
      "<entities> \n",
      "- x-api-tran-id: 거래고유번호\n",
      "- rsp_code: 세부 응답코드\n",
      "- rsp_msg: 세부 응답메시지\n",
      "- search_timestamp: 조회 타임스탬프\n",
      "- reg_date: 고객정보 최초생성일\n",
      "- next_page: 다음 페이지 기준개체\n",
      "- account_cnt: 보유계좌수\n",
      "- account_list: 보유계좌목록\n",
      "- account_num: 계좌번호\n",
      "- is_consent: 전송요구 여부\n",
      "- seqno: 회사번호\n",
      "</entities>\n",
      "<data_insights>\n",
      "- 필드의 데이터 타입은 문자열, 날짜, 불리언 등 다양하며, 각 필드의 길이 제한이 명시되어 있습니다.\n",
      "- 필수 필드는 Y로 표시되며, 선택 필드는 N으로 표시됩니다.\n",
      "- 응답 메시지의 최대 길이는 rsp_msg에서 450자로 제한됩니다.\n",
      "</data_insights>\n",
      "\n",
      "</table>\n",
      "------------------------------------------------------------------------------------------\n",
      "{'page': 131, 'source': PosixPath('/Users/gabriela/src/workspace/rag-agent/resources/original/api_specification.pdf')}\n",
      "==========================================================================================\n",
      "\n",
      "\n",
      "<table>\n",
      "<title>\n",
      "금융분야 마이데이터 표준API 규격 - 응답메시지 명세\n",
      "</title>\n",
      "<summary>\n",
      "이 표는 금융분야 마이데이터의 표준 API 응답 메시지 명세를 설명합니다. 각 항목의 이름, 설명, 필수 여부, 데이터 타입 및 길이에 대한 정보를 포함하고 있습니다.\n",
      "</summary>\n",
      "<entities> \n",
      "- x-api-tran-id: 거래고유번호\n",
      "- rsp_code: 응답코드\n",
      "- rsp_msg: 응답메시지\n",
      "- next_page: 다음 페이지 기준개체\n",
      "- bill_cnt: 청구목록수\n",
      "- bill_list: 청구목록\n",
      "- seqno: 결제순번\n",
      "- charge_amt: 청구금액\n",
      "- charge_day: 결제일\n",
      "- charge_month: 청구년월\n",
      "- paid_out_date: 결제년월일\n",
      "</entities>\n",
      "<data_insights>\n",
      "- 필수 항목: x-api-tran-id, rsp_code, rsp_msg, bill_cnt, bill_list, charge_amt, charge_day, charge_month, paid_out_date\n",
      "- 선택 항목: next_page, seqno\n",
      "- 데이터 타입: AN, AH, DATE 등 다양한 타입이 사용됨.\n",
      "</data_insights>\n",
      "\n",
      "</table>\n",
      "------------------------------------------------------------------------------------------\n",
      "{'page': 163, 'source': PosixPath('/Users/gabriela/src/workspace/rag-agent/resources/original/api_specification.pdf')}\n",
      "==========================================================================================\n",
      "\n",
      "\n"
     ]
    }
   ],
   "source": [
    "for doc in cleaned_documents:\n",
    "    print(doc.page_content)\n",
    "    print(\"---\" * 30)\n",
    "    print(doc.metadata)\n",
    "    print(\"===\" * 30, end=\"\\n\\n\\n\")"
   ]
  },
  {
   "cell_type": "code",
   "execution_count": 13,
   "metadata": {},
   "outputs": [
    {
     "data": {
      "text/plain": [
       "[Document(metadata={'page': 333, 'source': PosixPath('/Users/gabriela/src/workspace/rag-agent/resources/original/api_specification.pdf')}, page_content='<table>\\n<title>\\n금융분야 마이데이터 표준API 규격\\n</title>\\n<summary>\\n이 표는 질병 관련 금융보안원의 다양한 담당 코드와 그 설명을 나열하고 있습니다. 각 코드에 따라 특정 질병이나 관련된 치료 방법이 명시되어 있습니다.\\n</summary>\\n<entities> \\n담보 코드: 200, 201, 202, 203, 204, 205, 206, 207, 208, 211, 212, 213, 214, 215, 216, 217, 218, 219\\n설명: 질병, 7대질병관련, 여성만성질병관련, 부인과질병관련, 여성특정질병관련, 고액치료비특정질병관련, 남성7대질병관련, 국내여행 질병관련, 해외여행 질병관련, 남북한주민왕래 질병치료비, 마라톤질병의료실비, 해외발생질병의료비, 해외연수생 해외발생질병의료비, 비뇨기계 실손의료비, 산과질병관련, 치료비급여, 한방비급여, 출산확장\\n</entities>\\n<data_insights>\\n총 18개의 담당 코드가 있으며, 각 코드에 따라 다양한 질병 및 치료 관련 정보가 제공됩니다. 특히, 7대 질병과 여성 및 남성 관련 질병에 대한 정보가 포함되어 있습니다.\\n</data_insights>\\n\\n</table>'),\n",
       " Document(metadata={'page': 30, 'source': PosixPath('/Users/gabriela/src/workspace/rag-agent/resources/original/guideline.pdf'), 'summary': '- 고객이 종합포털을 통해 마이데이터사업자 외 기관에 개인신용정보 전송 요구\\n- 정보제공자는 거점중계기관을 통해 개인신용정보 전송\\n- 절차는 변경 가능, 상세 절차는 「금융분야 마이데이터 서비스 가이드라인」 참고\\n- 고객이 마이데이터사업자에게 개인신용정보 전송 요구 시, 정보제공자가 API 이용하여 전송\\n- 관련 기관: 금융보안원'}, page_content='금융분야 마이데이터 기술 가이드라인\\n② (마이데이터사업자 외 기관에 전송) 고객이 종합포털을 통해 마이데이터사업자 외\\n기관에 개인신용정보를 전송할 것을 요구하면, 정보제공자는 거점중계기관을 통해\\n개인신용정보를 전송한다.\\n※ 상기 절차는 변경될 수 있으며, 상세 절차는 「금융분야 마이데이터 서비스 가이드라인」 참고\\n3 (마이데이터사업자에 전송) 고객이 마이데이터사업자에게 개인신용정보를 전송할\\n것을 요구하면, 해당 정보제공자가 마이데이터사업자에게 API를 이용하여 개인\\n신용정보를 전송한다.\\n22 금융보안원'),\n",
       " Document(metadata={'page': 315, 'source': PosixPath('/Users/gabriela/src/workspace/rag-agent/resources/original/api_specification.pdf'), 'summary': '- 금융분야 마이데이터 표준API 규격\\n- 자동차보험 구분 코드\\n- 보험업권 관련\\n- 신용정보원의 보험신용정보관리규약\\n- 자동차보험 코드 차용\\n- 금융보안원 관련\\n- 웹사이트: www.fsec.or.kr\\n- 문서 번호: 290'}, page_content='금융분야 마이데이터 표준API 규격\\n첨부8\\n자동차보험 구분 코드 [보험업권]\\n* 신용정보원의 보험신용정보관리규약 중 자동차보험 코드 차용\\n금융보안원 www.fsec.or.kr - 290 -'),\n",
       " Document(metadata={'page': 129, 'source': PosixPath('/Users/gabriela/src/workspace/rag-agent/resources/original/api_specification.pdf')}, page_content='<table>\\n  <tr>\\n    <th>title</th>\\n    <td>  <tr>\\n    <th>summary</th>\\n    <td>  <tr>\\n    <th>entities</th>\\n    <td>  <tr>\\n    <th>data_insights</th>\\n    <td><ul>\\n      <li>- 응답코드: AH (300)</li>\\n      <li>거래내역수: 최대 3개</li>\\n      <li>거래금액: 최대 15자리</li>\\n      <li>거래 후 대출잔액: 최대 15자리</li>\\n      <li>거래번호: 최대 64자리</li>\\n    </ul></td>\\n  </tr>\\n</table>\\n\\n| 응답코드      | 세부 응답메시지 | Y   | AH (300)  |\\n|---------------|----------------|-----|-----------|\\n| next_page     | 다음 페이지 기준개체 | N   | aN (1000) |\\n| trans_cnt     | 거래내역수     | Y   | N (3)     |\\n| trans_list    | 거래내역목록   | Y   | Object    |\\n| -- trans_dtime| 거래일시 또는 거래일자 | Y   | DTIME 또는 DATE |\\n| -- trans_no   | 거래번호       | N   | aN (64)   |\\n| -- trans_amt  | 거래금액      | Y   | N (15)    |\\n| -- balance_amt | 거래 후 대출잔액 | N   | N (15)    |\\n| -- int_amt    | 거래금액 중 이자금액 | N   | F (18, 3) |\\n| -- principal_amt| 거래금액 중 원금 | N   | F (18, 3) |'),\n",
       " Document(metadata={'page': 54, 'source': PosixPath('/Users/gabriela/src/workspace/rag-agent/resources/original/guideline.pdf'), 'summary': '- 고객은 마이데이터서비스를 통해 개인신용정보 전송을 요구.\\n- 마이데이터사업자는 고객의 전송 요구사항을 정보제공자에 전달.\\n- 정보제공자는 본인인증 수단으로 고객의 본인인증을 수행.\\n- 마이데이터사업자는 접근토큰 발급을 정보제공자에 요청.\\n- 정보제공자는 접근토큰을 생성하여 마이데이터사업자에게 발급.\\n- 최초 전송 요구 시 1~5 과정을 수행하며, 이후에는 기발급된 접근토큰 사용.\\n- 인증방식에 따라 절차가 변경될 수 있으며, 상세 절차는 「금융분야 마이데이터 표준API 규격」 참조.\\n- 마이데이터사업자는 접근토큰을 이용해 정보제공자에 개인신용정보 전송 요청.\\n- 정보제공자는 접근토큰 유효성을 확인 후 개인신용정보를 마이데이터사업자에게 전송.'}, page_content='마이데이터 표준API 규격」 참조\\n(개인신용정보 전송 요청) 마이데이터사업자는 접근토큰을 이용하여 정보제공자에 고객이 전송 요구한\\n개인신용정보를 전송할 것을 요청\\n(개인신용정보 전송) 정보제공자는 접근토큰 유효성을 확인하고 고객의 개인신용정보를 마이데이터\\n사업자에게 전송\\n46 금융보안원'),\n",
       " Document(metadata={'page': 290, 'source': PosixPath('/Users/gabriela/src/workspace/rag-agent/resources/original/api_specification.pdf')}, page_content='<table>\\n<title>\\n금융분야 마이데이터 표준API 규격 응답메시지 명세\\n</title>\\n<summary>\\n이 표는 금융분야 마이데이터의 표준 API 규격에 대한 응답 메시지 명세를 포함하고 있습니다. 주로 실패한 API 호출 횟수에 대한 정보를 제공합니다.\\n</summary>\\n<entities> \\n- 금융보안원\\n- 웹사이트: www.fsec.or.kr\\n- 페이지 수: 265\\n- fail_api_cnt: 실패한 API 호출 횟수\\n</entities>\\n<data_insights>\\n- 실패한 API 호출 횟수는 Y와 N으로 구분되며, N의 경우 최대 10회로 설정되어 있습니다.\\n</data_insights>\\n\\n</table>'),\n",
       " Document(metadata={'page': 85, 'source': PosixPath('/Users/gabriela/src/workspace/rag-agent/resources/original/api_specification.pdf')}, page_content='<table>\\n<title>\\n금융분야 마이데이터 표준API 규격\\n</title>\\n<summary>\\n이 표는 금융 분야의 마이데이터 표준 API 규격을 나타내며, 각 API의 ID, 이름, URI, 버전, 업권, 리소스, HTTP 메서드 및 정기적 전송 주기를 포함하고 있습니다.\\n</summary>\\n<entities> \\nAPI ID, API 명, URI, version, industry, resource, HTTP Method, 정기적 전송 주기\\n</entities>\\n<data_insights>\\n총 8개의 API가 나열되어 있으며, 각 API는 다양한 기능을 제공하고 있습니다. GET 및 POST 메서드가 혼합되어 사용되고 있으며, 일부 API는 기본 전송 주기를, 다른 API는 추가 전송 주기를 요구합니다.\\n</data_insights>\\n\\n</table>'),\n",
       " Document(metadata={'page': 85, 'source': PosixPath('/Users/gabriela/src/workspace/rag-agent/resources/original/api_specification.pdf')}, page_content='<table>\\n<title>\\n금융분야 마이데이터 표준API 규격\\n</title>\\n<summary>\\n이 표는 보험 및 대출 관련 API의 목록을 포함하고 있으며, 각 API의 ID, 이름, URI, 버전, 업권, 리소스, HTTP 메서드 및 정기적 전송 주기를 나타냅니다.\\n</summary>\\n<entities> \\n- API ID: 보험-001, 보험-002, 보험-003, 보험-004, 보험-005, 보험-006, 보험-007, 보험-008, 보험-009, 보험-010, 보험-011, 보험-012\\n- API 명: 보험 목록 조회, 보험 기본정보 조회, 보험 특약정보 조회, 자동차보험 정보 조회, 보험 납입정보 조회, 보험 거래내역 조회, 자동차보험 거래내역 조회, 대출상품 목록 조회, 대출상품 기본정보 조회, 대출상품 추가정보 조회, 대출상품 거래내역 조회, 보험 보장정보 조회\\n- URI: /insurances, /insurances/basic, /insurances/contracts, /insurances/car, /insurances/payment, /insurances/transactions, /insurances/car/transactions, /loans, /loans/basic, /loans/detail, /loans/transactions, /insurances/coverages\\n- version: v1\\n- industry: 보험, 대출\\n- HTTP Method: GET, POST\\n- 정기적 전송 주기: 기본, 추가\\n</entities>\\n<data_insights>\\n- 총 12개의 API가 나열되어 있으며, 보험 관련 API가 7개, 대출 관련 API가 5개입니다.\\n- 모든 API는 버전 v1을 사용하고 있으며, HTTP 메서드는 GET과 POST가 혼합되어 있습니다.\\n- 정기적 전송 주기는 대부분 기본으로 설정되어 있으며, 일부는 추가로 설정되어 있습니다.\\n</data_insights>\\n\\n</table>'),\n",
       " Document(metadata={'page': 86, 'source': PosixPath('/Users/gabriela/src/workspace/rag-agent/resources/original/api_specification.pdf')}, page_content=\"<table>\\n<title>\\n금융분야 마이데이터 표준API 규격\\n</title>\\n<summary>\\n이 표는 할부금융 업권에 대한 API 명세를 포함하고 있으며, 각 API의 ID, 이름, 버전, 산업, URI, HTTP 메소드 및 전송 주기를 나타냅니다.\\n</summary>\\n<entities> \\n- API ID: 할부금융-001, 할부금융-002, 할부금융-003, 할부금융-004, 할부금융-005, 할부금융-006\\n- API 명: 계좌 목록 조회, 대출상품계좌 기본정보 조회, 대출상품계좌 추가정보 조회, 대출상품계좌 거래내역 조회, 운용리스 기본정보 조회, 운용리스 거래내역 조회\\n- version: v1\\n- industry: capital\\n- URI: /loans, /loans/basic, /loans/detail, /loans/transactions, /loans/oplease/basic, /loans/oplease/transactions\\n- HTTP Method: GET, POST\\n- 정기적 전송주기: 기본, 추가\\n</entities>\\n<data_insights>\\n- 총 6개의 API가 나열되어 있으며, 모두 v1 버전입니다.\\n- HTTP 메소드는 GET과 POST가 혼합되어 사용되고 있습니다.\\n- '기본' 전송주기를 가진 API는 3개, '추가' 전송주기를 가진 API는 3개입니다.\\n</data_insights>\\n\\n</table>\"),\n",
       " Document(metadata={'page': 296, 'source': PosixPath('/Users/gabriela/src/workspace/rag-agent/resources/original/api_specification.pdf')}, page_content=\"<table>\\n<title>\\n금융분야 마이데이터 표준API 규격\\n</title>\\n<summary>\\n이 표는 금융분야 마이데이터의 표준 API 규격에 대한 정보를 제공합니다. 클라이언트 IP 목록과 클라이언트 IP에 대한 세부 사항이 포함되어 있습니다.\\n</summary>\\n<entities> \\n- 금융보안원\\n- 웹사이트: www.fsec.or.kr\\n- 문서 번호: 271\\n- 클라이언트 IP 목록\\n- 클라이언트 IP\\n</entities>\\n<data_insights>\\n- 클라이언트 IP 목록은 객체 형식으로 제공되며, 'Y'로 표시되어 있습니다.\\n- 클라이언트 IP는 aNS(15) 형식으로 제공되며, 'Y'로 표시되어 있습니다.\\n- 두 항목 모두 org_type이 '01' 또는 '04'인 경우에만 해당됩니다.\\n</data_insights>\\n\\n</table>\")]"
      ]
     },
     "execution_count": 13,
     "metadata": {},
     "output_type": "execute_result"
    }
   ],
   "source": [
    "from ingestion.retrivers import retrieve_and_check\n",
    "\n",
    "retrieve_and_check(\"API 스펙 중 aNS는 어떤 것을 뜻하나요?\", \n",
    "                   ensemble_retriever)"
   ]
  },
  {
   "cell_type": "code",
   "execution_count": null,
   "metadata": {},
   "outputs": [],
   "source": []
  }
 ],
 "metadata": {
  "kernelspec": {
   "display_name": ".venv",
   "language": "python",
   "name": "python3"
  },
  "language_info": {
   "codemirror_mode": {
    "name": "ipython",
    "version": 3
   },
   "file_extension": ".py",
   "mimetype": "text/x-python",
   "name": "python",
   "nbconvert_exporter": "python",
   "pygments_lexer": "ipython3",
   "version": "3.12.2"
  }
 },
 "nbformat": 4,
 "nbformat_minor": 2
}
