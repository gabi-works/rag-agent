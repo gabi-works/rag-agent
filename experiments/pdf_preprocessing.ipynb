{
 "cells": [
  {
   "cell_type": "code",
   "execution_count": 49,
   "metadata": {},
   "outputs": [],
   "source": [
    "import os\n",
    "import json\n",
    "import random\n",
    "import asyncio\n",
    "import aiohttp\n",
    "import logging\n",
    "import pymupdf\n",
    "from pathlib import Path\n",
    "from aiohttp import FormData\n",
    "from dotenv import load_dotenv"
   ]
  },
  {
   "cell_type": "code",
   "execution_count": 13,
   "metadata": {},
   "outputs": [],
   "source": [
    "logging.basicConfig(level=logging.INFO)\n",
    "logger = logging.getLogger(__name__)"
   ]
  },
  {
   "cell_type": "code",
   "execution_count": 14,
   "metadata": {},
   "outputs": [
    {
     "data": {
      "text/plain": [
       "True"
      ]
     },
     "execution_count": 14,
     "metadata": {},
     "output_type": "execute_result"
    }
   ],
   "source": [
    "current_dir = os.getcwd()\n",
    "dotenv_path = os.path.join(os.path.dirname(current_dir), '.env')\n",
    "\n",
    "load_dotenv(dotenv_path)"
   ]
  },
  {
   "cell_type": "code",
   "execution_count": 15,
   "metadata": {},
   "outputs": [],
   "source": [
    "API_SPEC_PATH = \"../pdfs/api_specification.pdf\"\n",
    "GUIDELINE_PATH = \"../pdfs/guideline.pdf\"\n",
    "\n",
    "SPLITTED_PDF_PATH = \"../pdfs/splitted\"\n",
    "ANALYZED_JSON_PATH = \"../analyzed_jsons\""
   ]
  },
  {
   "cell_type": "code",
   "execution_count": 16,
   "metadata": {},
   "outputs": [],
   "source": [
    "UPSTAGE_INFERENCE_URL = \"https://ocr-demo.upstage.ai/api/layout-analysis/inference\"\n",
    "UPSTAGE_RESULT_BASE_URL = \"https://ocr-demo.upstage.ai/api/result/\""
   ]
  },
  {
   "cell_type": "code",
   "execution_count": 17,
   "metadata": {},
   "outputs": [],
   "source": [
    "upstage_api_headers = {\"Accept\": \"*/*\",\n",
    "                       \"origin\": \"https://d3tgkvf102zvh7.cloudfront.net\",\n",
    "                       \"priority\": \"u=1, i\",\n",
    "                       \"referer\": \"https://d3tgkvf102zvh7.cloudfront.net/\",\n",
    "                       \"user-agent\": \"Mozilla/5.0 (Macintosh; Intel Mac OS X 10_15_7) AppleWebKit/537.36 (KHTML, like Gecko) Chrome/129.0.0.0 Safari/537.36\"\n",
    "                       }"
   ]
  },
  {
   "cell_type": "code",
   "execution_count": 18,
   "metadata": {},
   "outputs": [],
   "source": [
    "class FileManager:\n",
    "    def __init__(self, file_path):\n",
    "        self.file_path = file_path\n",
    "        self.file_name = Path(file_path).stem\n",
    "        self.file_type = Path(file_path).suffix\n",
    "        self.num_total_page = 0\n",
    "        self.splitted_file_paths = []\n",
    "        self.send_document_analysis_request_id_map = self._init_request_result_map(\"request_ids.json\")\n",
    "        self.send_get_result_request_map = self._init_request_result_map(\"json_results.json\")\n",
    "    \n",
    "    def split_pages(self, split_size=1):\n",
    "        splitted_files = []\n",
    "        base_file = pymupdf.open(self.file_path)\n",
    "        self.num_total_page = base_file.page_count\n",
    "        os.makedirs(os.path.join(SPLITTED_PDF_PATH, self.file_name), exist_ok=True)\n",
    "\n",
    "        for start_page in range(0, self.num_total_page, split_size):\n",
    "            end_page = min(start_page+split_size, self.num_total_page) -1\n",
    "            result_file_name = f\"{self.file_name}_{start_page:03d}_{end_page:03d}.pdf\"\n",
    "            with pymupdf.open() as result_pdf:\n",
    "                result_pdf.insert_pdf(base_file, from_page=start_page, to_page=end_page)\n",
    "                result_file_path = os.path.join(SPLITTED_PDF_PATH, self.file_name, result_file_name)\n",
    "                result_pdf.save(result_file_path)\n",
    "                splitted_files.append(result_pdf)\n",
    "                self.splitted_file_paths.append(result_file_path)\n",
    "        \n",
    "        base_file.close()\n",
    "        return splitted_files\n",
    "\n",
    "    def _init_request_result_map(self, saved_file_name):\n",
    "        request_id_map = {}\n",
    "        file_path = os.path.join(ANALYZED_JSON_PATH, self.file_name, saved_file_name)\n",
    "        if os.path.isfile(file_path):\n",
    "            with open(file_path, 'r', encoding='utf-8') as file:\n",
    "                request_id_map = json.load(file)\n",
    "        return request_id_map\n",
    "\n",
    "    async def send_document_analysis_requests(self, file_paths):\n",
    "        async with aiohttp.ClientSession(connector=aiohttp.TCPConnector(ssl=False)) as session:\n",
    "            tasks = [self._delayed_document_analysis_request(session, fp) for fp in file_paths]\n",
    "\n",
    "            results = await asyncio.gather(*tasks, return_exceptions=True)\n",
    "            for idx, result in enumerate(results):\n",
    "                if isinstance(result, Exception):\n",
    "                    logger.error(f\"Request {idx + 1} File path[{file_path}]: Failed with error {result}\")\n",
    "                else:\n",
    "                    file_path = result.get(\"file_path\")\n",
    "                    request_id = result.get(\"request_id\")\n",
    "                    logger.info(f\"Request {idx + 1} File path[{file_path}]: Request ID = {request_id}\")\n",
    "                    self.send_document_analysis_request_id_map[file_path] = request_id\n",
    "            self.save_request_result()\n",
    "    \n",
    "    async def _delayed_document_analysis_request(self, session, file_path):\n",
    "        await asyncio.sleep(random.uniform(1, 3))\n",
    "        return await self._send_document_analysis_request(session, file_path)\n",
    "                \n",
    "    async def _send_document_analysis_request(self, session, file_path):\n",
    "        request_id = None\n",
    "\n",
    "        form = FormData()\n",
    "        form.add_field(\"token\", os.environ.get('UPSTAGE_TOKEN'))\n",
    "        form.add_field(\"serviceName\", \"document-ai\")\n",
    "        form.add_field(\"type\", \"drsp\")\n",
    "        form.add_field(\"url\", \"receipt-extraction-3.2.0\")\n",
    "        form.add_field(\"document\", open(file_path, 'rb'), filename=file_path, content_type='application/pdf')\n",
    "\n",
    "        try:\n",
    "            async with session.post(url=UPSTAGE_INFERENCE_URL, headers=upstage_api_headers, data=form) as response:\n",
    "                if response.status == 200:\n",
    "                    json_response = await response.json()\n",
    "                    request_id = json_response.get('requestId')\n",
    "                else:\n",
    "                    logger.error(f\"[Inference Req Failed]: Status {response.status}\")\n",
    "        except aiohttp.ClientError as e:\n",
    "            logger.error(f\"[Inference Req Error]: {e}\")\n",
    "\n",
    "        return {\"file_path\": file_path, \"request_id\": request_id}\n",
    "\n",
    "    async def send_get_result_requests(self, request_id_map):\n",
    "        os.makedirs(os.path.join(ANALYZED_JSON_PATH, self.file_name), exist_ok=True)\n",
    "        async with aiohttp.ClientSession(connector=aiohttp.TCPConnector(ssl=False)) as session:\n",
    "            tasks = [self._delayed_get_result_request(session, file_path, request_id) \n",
    "                     for file_path, request_id in request_id_map.items()]\n",
    "            \n",
    "            results = await asyncio.gather(*tasks, return_exceptions=True)\n",
    "            for idx, result in enumerate(results):\n",
    "                if isinstance(result, Exception):\n",
    "                    logger.error(f\"Get Result Request {idx + 1}: Failed with error {result}\")\n",
    "                else:\n",
    "                    file_path = result.get(\"file_path\")\n",
    "                    result_file_path = result.get(\"result\")\n",
    "                    self.send_get_result_request_map[file_path] = result_file_path\n",
    "                    logger.info(f\"Get Result Request {idx + 1} File path[{file_path}]: Successfully saved result.\")\n",
    "            self.save_result_request_result()\n",
    "    \n",
    "    async def _delayed_get_result_request(self, session, file_path, request_id):\n",
    "        await asyncio.sleep(random.uniform(1, 3))\n",
    "        return await self._send_get_result_request(session, file_path, request_id)\n",
    "    \n",
    "    async def _send_get_result_request(self, session, file_path, request_id):\n",
    "        result_file_path = os.path.join(ANALYZED_JSON_PATH, self.file_name, Path(file_path).stem + \".json\")\n",
    "        try:\n",
    "            async with session.get(url=os.path.join(UPSTAGE_RESULT_BASE_URL, request_id), headers=upstage_api_headers) as response:\n",
    "                if response.status == 200:\n",
    "                    result_json = await response.json()\n",
    "                    with open(result_file_path, \"w\") as f:\n",
    "                        json.dump(result_json, f, ensure_ascii=False)\n",
    "                    return {\"file_path\": file_path, \"result\": result_file_path}\n",
    "                else:\n",
    "                    logger.error(f\"[Result API Call Error]: Status {response.status}\")\n",
    "        except aiohttp.ClientError as e:\n",
    "            logger.error(f\"[Result Req Error]: {e}\")\n",
    "\n",
    "        return {\"file_path\": file_path, \"result\": None}\n",
    "\n",
    "    def save_request_result(self):\n",
    "        try:\n",
    "            os.makedirs(os.path.join(ANALYZED_JSON_PATH, self.file_name), exist_ok=True)\n",
    "            with open(os.path.join(ANALYZED_JSON_PATH, self.file_name, \"request_ids.json\"), 'w') as f:\n",
    "                json.dump(self.send_document_analysis_request_id_map, f, indent=4)\n",
    "        except IOError as e:\n",
    "            logger.error(f\"[Save Request ID Results Error]: {e}\")\n",
    "    \n",
    "    def save_result_request_result(self):\n",
    "        try:\n",
    "            with open(os.path.join(ANALYZED_JSON_PATH, self.file_name, \"json_results.json\"), 'w') as f:\n",
    "                json.dump(self.send_get_result_request_map, f, indent=4)\n",
    "        except IOError as e:\n",
    "            logger.error(f\"[Save JSON Result Error]: {e}\")"
   ]
  },
  {
   "cell_type": "code",
   "execution_count": 19,
   "metadata": {},
   "outputs": [],
   "source": [
    "guideline_file = FileManager(GUIDELINE_PATH)\n",
    "splitted_guideline_pdfs = guideline_file.split_pages(split_size=1)"
   ]
  },
  {
   "cell_type": "code",
   "execution_count": 20,
   "metadata": {},
   "outputs": [],
   "source": [
    "api_specification_file = FileManager(API_SPEC_PATH)\n",
    "splitted_api_specification_pdfs = api_specification_file.split_pages(split_size=1)"
   ]
  },
  {
   "cell_type": "code",
   "execution_count": 37,
   "metadata": {},
   "outputs": [
    {
     "name": "stderr",
     "output_type": "stream",
     "text": [
      "INFO:__main__:>>> start\n",
      "INFO:__main__:Request 1 File path[../pdfs/splitted/api_specification/api_specification_178_178.pdf]: Request ID = 70f6f6fc-b17a-4b22-ba6f-1ce68088ef41\n",
      "INFO:__main__:Request 2 File path[../pdfs/splitted/api_specification/api_specification_304_304.pdf]: Request ID = c77d8741-7bd1-40e1-9458-0bbe0359463f\n"
     ]
    }
   ],
   "source": [
    "try:\n",
    "    import nest_asyncio\n",
    "    nest_asyncio.apply()\n",
    "    #target_paths = api_specification_file.splitted_file_paths\n",
    "    target_paths = [key for key, value in api_specification_file.send_document_analysis_request_id_map.items() if value is None]\n",
    "    asyncio.run(api_specification_file.send_document_analysis_requests(target_paths))\n",
    "except RuntimeError as e:\n",
    "    if str(e).startswith(\"asyncio.run() cannot be called from a running event loop\"):\n",
    "            loop = asyncio.get_event_loop()\n",
    "            loop.run_until_complete(api_specification_file.send_document_analysis_requests(api_specification_file.splitted_file_paths))"
   ]
  },
  {
   "cell_type": "code",
   "execution_count": 38,
   "metadata": {},
   "outputs": [
    {
     "data": {
      "text/plain": [
       "0"
      ]
     },
     "execution_count": 38,
     "metadata": {},
     "output_type": "execute_result"
    }
   ],
   "source": [
    "len([key for key, value in api_specification_file.send_document_analysis_request_id_map.items() if value is None])"
   ]
  },
  {
   "cell_type": "code",
   "execution_count": 48,
   "metadata": {},
   "outputs": [
    {
     "name": "stderr",
     "output_type": "stream",
     "text": [
      "INFO:__main__:Get Result Request 1 File path[../pdfs/splitted/api_specification/api_specification_035_035.pdf]: Successfully saved result.\n",
      "INFO:__main__:Get Result Request 2 File path[../pdfs/splitted/api_specification/api_specification_149_149.pdf]: Successfully saved result.\n"
     ]
    }
   ],
   "source": [
    "try:\n",
    "    import nest_asyncio\n",
    "    nest_asyncio.apply()\n",
    "    #target_map = api_specification_file.send_document_analysis_request_id_map\n",
    "    target_paths = [key for key, value in api_specification_file.send_get_result_request_map.items() if value is None]\n",
    "    target_map = {key: value for key, value in api_specification_file.send_document_analysis_request_id_map.items() if key in target_paths}\n",
    "\n",
    "    asyncio.run(api_specification_file.send_get_result_requests(target_map))\n",
    "except RuntimeError as e:\n",
    "    if str(e).startswith(\"asyncio.run() cannot be called from a running event loop\"):\n",
    "            loop = asyncio.get_event_loop()\n",
    "            loop.run_until_complete(api_specification_file.send_get_result_requests(target_map))"
   ]
  },
  {
   "cell_type": "code",
   "execution_count": null,
   "metadata": {},
   "outputs": [],
   "source": []
  }
 ],
 "metadata": {
  "kernelspec": {
   "display_name": "Python 3",
   "language": "python",
   "name": "python3"
  },
  "language_info": {
   "codemirror_mode": {
    "name": "ipython",
    "version": 3
   },
   "file_extension": ".py",
   "mimetype": "text/x-python",
   "name": "python",
   "nbconvert_exporter": "python",
   "pygments_lexer": "ipython3",
   "version": "3.12.4"
  }
 },
 "nbformat": 4,
 "nbformat_minor": 2
}
